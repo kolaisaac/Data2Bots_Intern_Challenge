{
 "cells": [
  {
   "cell_type": "code",
   "execution_count": 1,
   "metadata": {},
   "outputs": [
    {
     "name": "stdout",
     "output_type": "stream",
     "text": [
      "         date        sku warehouse_location  quantity\n",
      "0  2021-01-02  100940478              lagos        23\n",
      "1  2020-11-09  100940479              lagos        84\n",
      "2  2021-01-15  100940480                oyo        11\n",
      "3  2016-11-09  100940481               ogun        98\n",
      "4  2017-04-04  100940482               ogun        23\n",
      "5  2018-01-13  100940483               abia         3\n",
      "6  2021-03-15  100940484             kaduna         7\n",
      "7  2021-01-11  100940485              abuja         4\n",
      "8  2021-02-16  100940486               kano         9\n",
      "9  2019-06-06  100940487            anambra       199\n"
     ]
    }
   ],
   "source": [
    "import pandas as pd\n",
    "data = pd.read_csv(\"dataset.csv\") \n",
    "# Preview the first 5 lines of the loaded data \n",
    "print(data)"
   ]
  },
  {
   "cell_type": "code",
   "execution_count": 2,
   "metadata": {},
   "outputs": [],
   "source": [
    "import json"
   ]
  },
  {
   "cell_type": "code",
   "execution_count": 3,
   "metadata": {},
   "outputs": [],
   "source": [
    "import numpy as np"
   ]
  },
  {
   "cell_type": "code",
   "execution_count": 4,
   "metadata": {},
   "outputs": [],
   "source": [
    "item_date = data['date']"
   ]
  },
  {
   "cell_type": "code",
   "execution_count": 5,
   "metadata": {},
   "outputs": [
    {
     "name": "stdout",
     "output_type": "stream",
     "text": [
      "0    2021-01-02\n",
      "1    2020-11-09\n",
      "2    2021-01-15\n",
      "3    2016-11-09\n",
      "4    2017-04-04\n",
      "5    2018-01-13\n",
      "6    2021-03-15\n",
      "7    2021-01-11\n",
      "8    2021-02-16\n",
      "9    2019-06-06\n",
      "Name: date, dtype: object\n"
     ]
    }
   ],
   "source": [
    "print(item_date)"
   ]
  },
  {
   "cell_type": "code",
   "execution_count": 6,
   "metadata": {},
   "outputs": [
    {
     "name": "stdout",
     "output_type": "stream",
     "text": [
      "[False  True False  True  True  True False False False  True]\n"
     ]
    }
   ],
   "source": [
    "obsolete = np.where(data['date']<'2021-01-01',True,False)\n",
    "print(obsolete)"
   ]
  },
  {
   "cell_type": "code",
   "execution_count": 7,
   "metadata": {},
   "outputs": [
    {
     "name": "stdout",
     "output_type": "stream",
     "text": [
      "         date        sku warehouse_location  quantity  obsolete\n",
      "0  2021-01-02  100940478              lagos        23     False\n",
      "1  2020-11-09  100940479              lagos        84      True\n",
      "2  2021-01-15  100940480                oyo        11     False\n",
      "3  2016-11-09  100940481               ogun        98      True\n",
      "4  2017-04-04  100940482               ogun        23      True\n",
      "5  2018-01-13  100940483               abia         3      True\n",
      "6  2021-03-15  100940484             kaduna         7     False\n",
      "7  2021-01-11  100940485              abuja         4     False\n",
      "8  2021-02-16  100940486               kano         9     False\n",
      "9  2019-06-06  100940487            anambra       199      True\n"
     ]
    }
   ],
   "source": [
    "# Adds a new column named [obsolete]. The column should flag TRUE, indicating an item is \n",
    "# expired and FALSE, otherwise\n",
    "\n",
    "data['obsolete'] = obsolete\n",
    "print(data)\n"
   ]
  },
  {
   "cell_type": "code",
   "execution_count": null,
   "metadata": {},
   "outputs": [],
   "source": [
    "data_with_obsolete_column = data"
   ]
  },
  {
   "cell_type": "code",
   "execution_count": null,
   "metadata": {},
   "outputs": [],
   "source": [
    "print(data_with_obsolete_column)"
   ]
  },
  {
   "cell_type": "code",
   "execution_count": null,
   "metadata": {},
   "outputs": [],
   "source": [
    "data_with_obsolete_updated = data.to_json()"
   ]
  },
  {
   "cell_type": "code",
   "execution_count": null,
   "metadata": {},
   "outputs": [],
   "source": [
    "print(data_with_obsolete_updated)"
   ]
  },
  {
   "cell_type": "code",
   "execution_count": null,
   "metadata": {},
   "outputs": [],
   "source": [
    "with open('data_with_obsolete_updated.json', 'w') as json_file:\n",
    "\tjson.dump(data_with_obsolete_updated, json_file)"
   ]
  },
  {
   "cell_type": "code",
   "execution_count": null,
   "metadata": {},
   "outputs": [],
   "source": []
  }
 ],
 "metadata": {
  "kernelspec": {
   "display_name": "Python 3",
   "language": "python",
   "name": "python3"
  },
  "language_info": {
   "codemirror_mode": {
    "name": "ipython",
    "version": 3
   },
   "file_extension": ".py",
   "mimetype": "text/x-python",
   "name": "python",
   "nbconvert_exporter": "python",
   "pygments_lexer": "ipython3",
   "version": "3.7.3"
  }
 },
 "nbformat": 4,
 "nbformat_minor": 2
}
