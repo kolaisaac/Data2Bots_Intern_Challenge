{
 "cells": [
  {
   "cell_type": "code",
   "execution_count": 1,
   "metadata": {},
   "outputs": [],
   "source": [
    "import pandas as pd\n",
    "import json\n",
    "import numpy as np"
   ]
  },
  {
   "cell_type": "code",
   "execution_count": 2,
   "metadata": {},
   "outputs": [
    {
     "name": "stdout",
     "output_type": "stream",
     "text": [
      "         date        sku warehouse_location  quantity\n",
      "0  2021-01-02  100940478              lagos        23\n",
      "1  2020-11-09  100940479              lagos        84\n",
      "2  2021-01-15  100940480                oyo        11\n",
      "3  2016-11-09  100940481               ogun        98\n",
      "4  2017-04-04  100940482               ogun        23\n",
      "5  2018-01-13  100940483               abia         3\n",
      "6  2021-03-15  100940484             kaduna         7\n",
      "7  2021-01-11  100940485              abuja         4\n",
      "8  2021-02-16  100940486               kano         9\n",
      "9  2019-06-06  100940487            anambra       199\n"
     ]
    }
   ],
   "source": [
    "data = pd.read_csv(\"dataset.csv\")\n",
    "\n",
    "print(data)"
   ]
  },
  {
   "cell_type": "code",
   "execution_count": 3,
   "metadata": {},
   "outputs": [],
   "source": [
    "def check_expiration(data):\n",
    "\n",
    "\titem_date = data['date']\n",
    "\n",
    "\tobsolete = np.where(data['date']<'2021-01-01', True, False)\n",
    "\n",
    "\tdata['obsolete'] = obsolete\n",
    "\n",
    "\tdata_with_obsolete_column = data\n",
    "\n",
    "\treturn data_with_obsolete_column\n"
   ]
  },
  {
   "cell_type": "code",
   "execution_count": 4,
   "metadata": {},
   "outputs": [
    {
     "data": {
      "text/html": [
       "<div>\n",
       "<style scoped>\n",
       "    .dataframe tbody tr th:only-of-type {\n",
       "        vertical-align: middle;\n",
       "    }\n",
       "\n",
       "    .dataframe tbody tr th {\n",
       "        vertical-align: top;\n",
       "    }\n",
       "\n",
       "    .dataframe thead th {\n",
       "        text-align: right;\n",
       "    }\n",
       "</style>\n",
       "<table border=\"1\" class=\"dataframe\">\n",
       "  <thead>\n",
       "    <tr style=\"text-align: right;\">\n",
       "      <th></th>\n",
       "      <th>date</th>\n",
       "      <th>sku</th>\n",
       "      <th>warehouse_location</th>\n",
       "      <th>quantity</th>\n",
       "      <th>obsolete</th>\n",
       "    </tr>\n",
       "  </thead>\n",
       "  <tbody>\n",
       "    <tr>\n",
       "      <th>0</th>\n",
       "      <td>2021-01-02</td>\n",
       "      <td>100940478</td>\n",
       "      <td>lagos</td>\n",
       "      <td>23</td>\n",
       "      <td>False</td>\n",
       "    </tr>\n",
       "    <tr>\n",
       "      <th>1</th>\n",
       "      <td>2020-11-09</td>\n",
       "      <td>100940479</td>\n",
       "      <td>lagos</td>\n",
       "      <td>84</td>\n",
       "      <td>True</td>\n",
       "    </tr>\n",
       "    <tr>\n",
       "      <th>2</th>\n",
       "      <td>2021-01-15</td>\n",
       "      <td>100940480</td>\n",
       "      <td>oyo</td>\n",
       "      <td>11</td>\n",
       "      <td>False</td>\n",
       "    </tr>\n",
       "    <tr>\n",
       "      <th>3</th>\n",
       "      <td>2016-11-09</td>\n",
       "      <td>100940481</td>\n",
       "      <td>ogun</td>\n",
       "      <td>98</td>\n",
       "      <td>True</td>\n",
       "    </tr>\n",
       "    <tr>\n",
       "      <th>4</th>\n",
       "      <td>2017-04-04</td>\n",
       "      <td>100940482</td>\n",
       "      <td>ogun</td>\n",
       "      <td>23</td>\n",
       "      <td>True</td>\n",
       "    </tr>\n",
       "    <tr>\n",
       "      <th>5</th>\n",
       "      <td>2018-01-13</td>\n",
       "      <td>100940483</td>\n",
       "      <td>abia</td>\n",
       "      <td>3</td>\n",
       "      <td>True</td>\n",
       "    </tr>\n",
       "    <tr>\n",
       "      <th>6</th>\n",
       "      <td>2021-03-15</td>\n",
       "      <td>100940484</td>\n",
       "      <td>kaduna</td>\n",
       "      <td>7</td>\n",
       "      <td>False</td>\n",
       "    </tr>\n",
       "    <tr>\n",
       "      <th>7</th>\n",
       "      <td>2021-01-11</td>\n",
       "      <td>100940485</td>\n",
       "      <td>abuja</td>\n",
       "      <td>4</td>\n",
       "      <td>False</td>\n",
       "    </tr>\n",
       "    <tr>\n",
       "      <th>8</th>\n",
       "      <td>2021-02-16</td>\n",
       "      <td>100940486</td>\n",
       "      <td>kano</td>\n",
       "      <td>9</td>\n",
       "      <td>False</td>\n",
       "    </tr>\n",
       "    <tr>\n",
       "      <th>9</th>\n",
       "      <td>2019-06-06</td>\n",
       "      <td>100940487</td>\n",
       "      <td>anambra</td>\n",
       "      <td>199</td>\n",
       "      <td>True</td>\n",
       "    </tr>\n",
       "  </tbody>\n",
       "</table>\n",
       "</div>"
      ],
      "text/plain": [
       "         date        sku warehouse_location  quantity  obsolete\n",
       "0  2021-01-02  100940478              lagos        23     False\n",
       "1  2020-11-09  100940479              lagos        84      True\n",
       "2  2021-01-15  100940480                oyo        11     False\n",
       "3  2016-11-09  100940481               ogun        98      True\n",
       "4  2017-04-04  100940482               ogun        23      True\n",
       "5  2018-01-13  100940483               abia         3      True\n",
       "6  2021-03-15  100940484             kaduna         7     False\n",
       "7  2021-01-11  100940485              abuja         4     False\n",
       "8  2021-02-16  100940486               kano         9     False\n",
       "9  2019-06-06  100940487            anambra       199      True"
      ]
     },
     "execution_count": 4,
     "metadata": {},
     "output_type": "execute_result"
    }
   ],
   "source": [
    "check_expiration(data)"
   ]
  },
  {
   "cell_type": "code",
   "execution_count": 9,
   "metadata": {},
   "outputs": [],
   "source": [
    "def data_to_json(data):\n",
    "    \n",
    "    try:\n",
    "        data_to_json = data.to_json()\n",
    "        \n",
    "        with open('data_updated.json', 'w') as json_file:\n",
    "            json.dump(data_to_json, json_file)\n",
    "            \n",
    "        print(\"JSON file created successfully\")\n",
    "        \n",
    "    except Exception:\n",
    "        print(\"JSON file not created\")"
   ]
  },
  {
   "cell_type": "code",
   "execution_count": 10,
   "metadata": {},
   "outputs": [
    {
     "name": "stdout",
     "output_type": "stream",
     "text": [
      "JSON file created successfully\n"
     ]
    }
   ],
   "source": [
    "data_to_json(data)"
   ]
  },
  {
   "cell_type": "code",
   "execution_count": null,
   "metadata": {},
   "outputs": [],
   "source": []
  }
 ],
 "metadata": {
  "kernelspec": {
   "display_name": "Python 3",
   "language": "python",
   "name": "python3"
  },
  "language_info": {
   "codemirror_mode": {
    "name": "ipython",
    "version": 3
   },
   "file_extension": ".py",
   "mimetype": "text/x-python",
   "name": "python",
   "nbconvert_exporter": "python",
   "pygments_lexer": "ipython3",
   "version": "3.7.3"
  }
 },
 "nbformat": 4,
 "nbformat_minor": 2
}
